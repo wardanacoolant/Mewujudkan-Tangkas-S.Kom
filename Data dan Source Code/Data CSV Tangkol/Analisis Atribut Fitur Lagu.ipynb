{
 "cells": [
  {
   "cell_type": "markdown",
   "metadata": {},
   "source": [
    "ANALISIS ATRIBUT FITUR LAGU"
   ]
  },
  {
   "cell_type": "code",
   "execution_count": 77,
   "metadata": {},
   "outputs": [],
   "source": [
    "import pandas as pd\n",
    "import numpy as np\n",
    "import seaborn as sns\n",
    "%matplotlib inline \n",
    "import matplotlib.pyplot as plt\n",
    "import numpy as np\n",
    "from sklearn.datasets import load_digits"
   ]
  },
  {
   "cell_type": "code",
   "execution_count": 81,
   "metadata": {},
   "outputs": [],
   "source": [
    "df = pd.read_csv('D:\\Codingan\\Visual Studio Code\\Spotify\\Gabungkan Data\\Data Fix.csv')"
   ]
  },
  {
   "cell_type": "code",
   "execution_count": 82,
   "metadata": {},
   "outputs": [
    {
     "output_type": "execute_result",
     "data": {
      "text/plain": "      No  Playlist  danceability  energy  key  loudness  mode  speechiness  \\\n0      1         0         0.598   0.735    2   -10.882     1       0.0973   \n1      2         0         0.692   0.493    9    -9.662     0       0.0325   \n2      3         0         0.821   0.376    0   -13.622     1       0.0487   \n3      4         0         0.711   0.483   11   -11.211     1       0.0298   \n4      5         0         0.661   0.342    9   -16.361     0       0.0430   \n..   ...       ...           ...     ...  ...       ...   ...          ...   \n695  696        13         0.667   0.599    0    -8.894     1       0.0291   \n696  697        13         0.676   0.245    0   -14.270     1       0.0299   \n697  698        13         0.733   0.624    4    -9.849     1       0.0374   \n698  699        13         0.703   0.724    7   -10.818     1       0.0467   \n699  700        13         0.744   0.568    0    -9.629     1       0.0494   \n\n     acousticness  instrumentalness  liveness  valence    tempo  duration_ms  \n0          0.4400          0.000215    0.6810    0.615  111.129       321133  \n1          0.0934          0.001660    0.1280    0.280   86.644       301133  \n2          0.6690          0.000014    0.1060    0.824  119.039       170000  \n3          0.4340          0.012000    0.0284    0.884   91.652       169998  \n4          0.8440          0.000128    0.2600    0.588  146.118       188400  \n..            ...               ...       ...      ...      ...          ...  \n695        0.2450          0.000000    0.1070    0.971  127.935       160280  \n696        0.6770          0.000000    0.3190    0.532   86.338       173893  \n697        0.6230          0.000000    0.4070    0.912  114.584       154907  \n698        0.7300          0.000000    0.5180    0.963  131.821       155173  \n699        0.1860          0.000012    0.1630    0.687  122.657       178400  \n\n[700 rows x 14 columns]",
      "text/html": "<div>\n<style scoped>\n    .dataframe tbody tr th:only-of-type {\n        vertical-align: middle;\n    }\n\n    .dataframe tbody tr th {\n        vertical-align: top;\n    }\n\n    .dataframe thead th {\n        text-align: right;\n    }\n</style>\n<table border=\"1\" class=\"dataframe\">\n  <thead>\n    <tr style=\"text-align: right;\">\n      <th></th>\n      <th>No</th>\n      <th>Playlist</th>\n      <th>danceability</th>\n      <th>energy</th>\n      <th>key</th>\n      <th>loudness</th>\n      <th>mode</th>\n      <th>speechiness</th>\n      <th>acousticness</th>\n      <th>instrumentalness</th>\n      <th>liveness</th>\n      <th>valence</th>\n      <th>tempo</th>\n      <th>duration_ms</th>\n    </tr>\n  </thead>\n  <tbody>\n    <tr>\n      <th>0</th>\n      <td>1</td>\n      <td>0</td>\n      <td>0.598</td>\n      <td>0.735</td>\n      <td>2</td>\n      <td>-10.882</td>\n      <td>1</td>\n      <td>0.0973</td>\n      <td>0.4400</td>\n      <td>0.000215</td>\n      <td>0.6810</td>\n      <td>0.615</td>\n      <td>111.129</td>\n      <td>321133</td>\n    </tr>\n    <tr>\n      <th>1</th>\n      <td>2</td>\n      <td>0</td>\n      <td>0.692</td>\n      <td>0.493</td>\n      <td>9</td>\n      <td>-9.662</td>\n      <td>0</td>\n      <td>0.0325</td>\n      <td>0.0934</td>\n      <td>0.001660</td>\n      <td>0.1280</td>\n      <td>0.280</td>\n      <td>86.644</td>\n      <td>301133</td>\n    </tr>\n    <tr>\n      <th>2</th>\n      <td>3</td>\n      <td>0</td>\n      <td>0.821</td>\n      <td>0.376</td>\n      <td>0</td>\n      <td>-13.622</td>\n      <td>1</td>\n      <td>0.0487</td>\n      <td>0.6690</td>\n      <td>0.000014</td>\n      <td>0.1060</td>\n      <td>0.824</td>\n      <td>119.039</td>\n      <td>170000</td>\n    </tr>\n    <tr>\n      <th>3</th>\n      <td>4</td>\n      <td>0</td>\n      <td>0.711</td>\n      <td>0.483</td>\n      <td>11</td>\n      <td>-11.211</td>\n      <td>1</td>\n      <td>0.0298</td>\n      <td>0.4340</td>\n      <td>0.012000</td>\n      <td>0.0284</td>\n      <td>0.884</td>\n      <td>91.652</td>\n      <td>169998</td>\n    </tr>\n    <tr>\n      <th>4</th>\n      <td>5</td>\n      <td>0</td>\n      <td>0.661</td>\n      <td>0.342</td>\n      <td>9</td>\n      <td>-16.361</td>\n      <td>0</td>\n      <td>0.0430</td>\n      <td>0.8440</td>\n      <td>0.000128</td>\n      <td>0.2600</td>\n      <td>0.588</td>\n      <td>146.118</td>\n      <td>188400</td>\n    </tr>\n    <tr>\n      <th>...</th>\n      <td>...</td>\n      <td>...</td>\n      <td>...</td>\n      <td>...</td>\n      <td>...</td>\n      <td>...</td>\n      <td>...</td>\n      <td>...</td>\n      <td>...</td>\n      <td>...</td>\n      <td>...</td>\n      <td>...</td>\n      <td>...</td>\n      <td>...</td>\n    </tr>\n    <tr>\n      <th>695</th>\n      <td>696</td>\n      <td>13</td>\n      <td>0.667</td>\n      <td>0.599</td>\n      <td>0</td>\n      <td>-8.894</td>\n      <td>1</td>\n      <td>0.0291</td>\n      <td>0.2450</td>\n      <td>0.000000</td>\n      <td>0.1070</td>\n      <td>0.971</td>\n      <td>127.935</td>\n      <td>160280</td>\n    </tr>\n    <tr>\n      <th>696</th>\n      <td>697</td>\n      <td>13</td>\n      <td>0.676</td>\n      <td>0.245</td>\n      <td>0</td>\n      <td>-14.270</td>\n      <td>1</td>\n      <td>0.0299</td>\n      <td>0.6770</td>\n      <td>0.000000</td>\n      <td>0.3190</td>\n      <td>0.532</td>\n      <td>86.338</td>\n      <td>173893</td>\n    </tr>\n    <tr>\n      <th>697</th>\n      <td>698</td>\n      <td>13</td>\n      <td>0.733</td>\n      <td>0.624</td>\n      <td>4</td>\n      <td>-9.849</td>\n      <td>1</td>\n      <td>0.0374</td>\n      <td>0.6230</td>\n      <td>0.000000</td>\n      <td>0.4070</td>\n      <td>0.912</td>\n      <td>114.584</td>\n      <td>154907</td>\n    </tr>\n    <tr>\n      <th>698</th>\n      <td>699</td>\n      <td>13</td>\n      <td>0.703</td>\n      <td>0.724</td>\n      <td>7</td>\n      <td>-10.818</td>\n      <td>1</td>\n      <td>0.0467</td>\n      <td>0.7300</td>\n      <td>0.000000</td>\n      <td>0.5180</td>\n      <td>0.963</td>\n      <td>131.821</td>\n      <td>155173</td>\n    </tr>\n    <tr>\n      <th>699</th>\n      <td>700</td>\n      <td>13</td>\n      <td>0.744</td>\n      <td>0.568</td>\n      <td>0</td>\n      <td>-9.629</td>\n      <td>1</td>\n      <td>0.0494</td>\n      <td>0.1860</td>\n      <td>0.000012</td>\n      <td>0.1630</td>\n      <td>0.687</td>\n      <td>122.657</td>\n      <td>178400</td>\n    </tr>\n  </tbody>\n</table>\n<p>700 rows × 14 columns</p>\n</div>"
     },
     "metadata": {},
     "execution_count": 82
    }
   ],
   "source": [
    "df"
   ]
  },
  {
   "cell_type": "markdown",
   "metadata": {},
   "source": [
    "y = df.danceability\n",
    "plt.ylabel('skala'); plt.xlabel('data')\n",
    "plt.scatter(x,y)"
   ]
  },
  {
   "cell_type": "markdown",
   "metadata": {},
   "source": [
    "danceability = df.danceability\n",
    "playlist = df.Playlist\n",
    "index = df.No\n",
    "\n",
    "plt.scatter(index, danceability, c=playlist)\n",
    "plt.xlabel('Data ke-')\n",
    "plt.ylabel('Nilai');\n",
    "plt.show()"
   ]
  },
  {
   "cell_type": "code",
   "execution_count": null,
   "metadata": {},
   "outputs": [],
   "source": [
    "fig = plt.figure(figsize = (12, 6))\n",
    "ax = fig.add_subplot(1,1,1,)\n",
    "\n",
    "for cat in sorted(list(df[\"danceability\"].unique())):\n",
    "    # filter x and the y for each category\n",
    "    ar = df[df[\"danceability\"] == cat][\"area\"]\n",
    "    pop = df[df[\"danceability\"] == cat][\"poptotal\"]\n",
    "    \n",
    "    # plot the data\n",
    "    ax.scatter(ar, pop, label = cat, s = 10)"
   ]
  }
 ],
 "metadata": {
  "language_info": {
   "codemirror_mode": {
    "name": "ipython",
    "version": 3
   },
   "file_extension": ".py",
   "mimetype": "text/x-python",
   "name": "python",
   "nbconvert_exporter": "python",
   "pygments_lexer": "ipython3",
   "version": "3.8.2-final"
  },
  "orig_nbformat": 2,
  "kernelspec": {
   "name": "python38232bite4331db4bc74444db25d9863fc3e1401",
   "display_name": "Python 3.8.2 32-bit"
  }
 },
 "nbformat": 4,
 "nbformat_minor": 2
}