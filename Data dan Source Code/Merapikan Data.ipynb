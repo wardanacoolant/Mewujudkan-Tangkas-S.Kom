{
 "cells": [
  {
   "cell_type": "markdown",
   "metadata": {},
   "source": [
    "MERAPIKAN DATA SEBAGAI BERIKUT :"
   ]
  },
  {
   "cell_type": "code",
   "execution_count": 5,
   "metadata": {},
   "outputs": [],
   "source": [
    "import pandas as pd"
   ]
  },
  {
   "cell_type": "markdown",
   "metadata": {},
   "source": [
    "MEMBACA FILE EXCEL BERUPA CSV"
   ]
  },
  {
   "cell_type": "markdown",
   "metadata": {},
   "source": [
    "data = pd.read_csv(\"D:\\Codingan\\Visual Studio Code\\Spotify\\Spotify Analysis 1\\Tahap Awal\\Data Web API Spotify\\Data 50\\R&B.csv\")\n",
    "data"
   ]
  },
  {
   "cell_type": "markdown",
   "metadata": {},
   "source": [
    "HAPUS KOLOM FILE YANG TIDAK DIGUNAKAN DAN SIMPAN KE FILE BARU"
   ]
  },
  {
   "cell_type": "markdown",
   "metadata": {},
   "source": [
    "data.drop(['type', 'id', 'uri', 'track_href', 'analysis_url', 'time_signature'], axis=1, inplace=True)\n",
    "data.rename(columns = {'Unnamed: 0' : 'playlist'}, inplace=True)\n",
    "data"
   ]
  },
  {
   "cell_type": "markdown",
   "metadata": {},
   "source": [
    "data.to_csv('D:\\Codingan\\Visual Studio Code\\Spotify\\Spotify Analysis 1\\Tahap Awal\\Merapikan Data\\Data 50\\R&B_New.csv')"
   ]
  },
  {
   "cell_type": "markdown",
   "metadata": {},
   "source": [
    "MENGGABUNGKAN DATA"
   ]
  },
  {
   "cell_type": "code",
   "execution_count": 6,
   "metadata": {},
   "outputs": [],
   "source": [
    "data0 = pd.read_csv(\"D:\\Codingan\\Visual Studio Code\\Spotify\\Spotify Analysis 1\\Tahap Awal\\Merapikan Data\\Data 50\\Blues_New.csv\")\n",
    "data1 = pd.read_csv(\"D:\\Codingan\\Visual Studio Code\\Spotify\\Spotify Analysis 1\\Tahap Awal\\Merapikan Data\\Data 50\\Classical_New.csv\")\n",
    "data2 = pd.read_csv(\"D:\\Codingan\\Visual Studio Code\\Spotify\\Spotify Analysis 1\\Tahap Awal\\Merapikan Data\\Data 50\\Country_New.csv\")\n",
    "data3 = pd.read_csv(\"D:\\Codingan\\Visual Studio Code\\Spotify\\Spotify Analysis 1\\Tahap Awal\\Merapikan Data\\Data 50\\Edm_New.csv\")\n",
    "data4 = pd.read_csv(\"D:\\Codingan\\Visual Studio Code\\Spotify\\Spotify Analysis 1\\Tahap Awal\\Merapikan Data\\Data 50\\Funk_New.csv\")\n",
    "data5 = pd.read_csv(\"D:\\Codingan\\Visual Studio Code\\Spotify\\Spotify Analysis 1\\Tahap Awal\\Merapikan Data\\Data 50\\Gospel_New.csv\")\n",
    "data6 = pd.read_csv(\"D:\\Codingan\\Visual Studio Code\\Spotify\\Spotify Analysis 1\\Tahap Awal\\Merapikan Data\\Data 50\\Hip Hop_New.csv\")\n",
    "data7 = pd.read_csv(\"D:\\Codingan\\Visual Studio Code\\Spotify\\Spotify Analysis 1\\Tahap Awal\\Merapikan Data\\Data 50\\Jazz_New.csv\")\n",
    "data8 = pd.read_csv(\"D:\\Codingan\\Visual Studio Code\\Spotify\\Spotify Analysis 1\\Tahap Awal\\Merapikan Data\\Data 50\\Metal_New.csv\")\n",
    "data9 = pd.read_csv(\"D:\\Codingan\\Visual Studio Code\\Spotify\\Spotify Analysis 1\\Tahap Awal\\Merapikan Data\\Data 50\\Pop_New.csv\")\n",
    "data10 = pd.read_csv(\"D:\\Codingan\\Visual Studio Code\\Spotify\\Spotify Analysis 1\\Tahap Awal\\Merapikan Data\\Data 50\\R&B_New.csv\")\n",
    "data11 = pd.read_csv(\"D:\\Codingan\\Visual Studio Code\\Spotify\\Spotify Analysis 1\\Tahap Awal\\Merapikan Data\\Data 50\\Reggae_New.csv\")\n",
    "data12 = pd.read_csv(\"D:\\Codingan\\Visual Studio Code\\Spotify\\Spotify Analysis 1\\Tahap Awal\\Merapikan Data\\Data 50\\Rock_New.csv\")\n",
    "data13 = pd.read_csv(\"D:\\Codingan\\Visual Studio Code\\Spotify\\Spotify Analysis 1\\Tahap Awal\\Merapikan Data\\Data 50\\Soul_New.csv\")"
   ]
  },
  {
   "cell_type": "code",
   "execution_count": 7,
   "metadata": {},
   "outputs": [
    {
     "output_type": "execute_result",
     "data": {
      "text/plain": "    Unnamed: 0  playlist  danceability  energy  key  loudness  mode  \\\n0            0         0         0.598   0.735    2   -10.882     1   \n1            1         1         0.692   0.493    9    -9.662     0   \n2            2         2         0.821   0.376    0   -13.622     1   \n3            3         3         0.661   0.342    9   -16.361     0   \n4            4         4         0.542   0.588    2    -9.268     1   \n..         ...       ...           ...     ...  ...       ...   ...   \n45          45        45         0.691   0.581   10    -7.850     1   \n46          46        46         0.559   0.537   10    -6.914     0   \n47          47        47         0.257   0.338    4   -12.902     1   \n48          48        48         0.617   0.879    0    -7.564     0   \n49          49        49         0.773   0.418    7    -7.645     1   \n\n    speechiness  acousticness  instrumentalness  liveness  valence    tempo  \\\n0        0.0973        0.4400          0.000215    0.6810    0.615  111.129   \n1        0.0325        0.0934          0.001660    0.1280    0.280   86.644   \n2        0.0487        0.6690          0.000014    0.1060    0.824  119.039   \n3        0.0430        0.8440          0.000128    0.2600    0.588  146.118   \n4        0.0665        0.6700          0.158000    0.2410    0.881  113.948   \n..          ...           ...               ...       ...      ...      ...   \n45       0.0650        0.5570          0.000046    0.1470    0.910  126.615   \n46       0.0330        0.2570          0.000000    0.1240    0.592   89.229   \n47       0.0357        0.7360          0.000000    0.2520    0.544  207.356   \n48       0.0455        0.1270          0.000057    0.3390    0.746  114.453   \n49       0.0423        0.5030          0.000086    0.0893    0.715   98.324   \n\n    duration_ms  \n0        321133  \n1        301133  \n2        170000  \n3        188400  \n4        238533  \n..          ...  \n45       174440  \n46       279627  \n47       162493  \n48       247413  \n49       163160  \n\n[700 rows x 14 columns]",
      "text/html": "<div>\n<style scoped>\n    .dataframe tbody tr th:only-of-type {\n        vertical-align: middle;\n    }\n\n    .dataframe tbody tr th {\n        vertical-align: top;\n    }\n\n    .dataframe thead th {\n        text-align: right;\n    }\n</style>\n<table border=\"1\" class=\"dataframe\">\n  <thead>\n    <tr style=\"text-align: right;\">\n      <th></th>\n      <th>Unnamed: 0</th>\n      <th>playlist</th>\n      <th>danceability</th>\n      <th>energy</th>\n      <th>key</th>\n      <th>loudness</th>\n      <th>mode</th>\n      <th>speechiness</th>\n      <th>acousticness</th>\n      <th>instrumentalness</th>\n      <th>liveness</th>\n      <th>valence</th>\n      <th>tempo</th>\n      <th>duration_ms</th>\n    </tr>\n  </thead>\n  <tbody>\n    <tr>\n      <th>0</th>\n      <td>0</td>\n      <td>0</td>\n      <td>0.598</td>\n      <td>0.735</td>\n      <td>2</td>\n      <td>-10.882</td>\n      <td>1</td>\n      <td>0.0973</td>\n      <td>0.4400</td>\n      <td>0.000215</td>\n      <td>0.6810</td>\n      <td>0.615</td>\n      <td>111.129</td>\n      <td>321133</td>\n    </tr>\n    <tr>\n      <th>1</th>\n      <td>1</td>\n      <td>1</td>\n      <td>0.692</td>\n      <td>0.493</td>\n      <td>9</td>\n      <td>-9.662</td>\n      <td>0</td>\n      <td>0.0325</td>\n      <td>0.0934</td>\n      <td>0.001660</td>\n      <td>0.1280</td>\n      <td>0.280</td>\n      <td>86.644</td>\n      <td>301133</td>\n    </tr>\n    <tr>\n      <th>2</th>\n      <td>2</td>\n      <td>2</td>\n      <td>0.821</td>\n      <td>0.376</td>\n      <td>0</td>\n      <td>-13.622</td>\n      <td>1</td>\n      <td>0.0487</td>\n      <td>0.6690</td>\n      <td>0.000014</td>\n      <td>0.1060</td>\n      <td>0.824</td>\n      <td>119.039</td>\n      <td>170000</td>\n    </tr>\n    <tr>\n      <th>3</th>\n      <td>3</td>\n      <td>3</td>\n      <td>0.661</td>\n      <td>0.342</td>\n      <td>9</td>\n      <td>-16.361</td>\n      <td>0</td>\n      <td>0.0430</td>\n      <td>0.8440</td>\n      <td>0.000128</td>\n      <td>0.2600</td>\n      <td>0.588</td>\n      <td>146.118</td>\n      <td>188400</td>\n    </tr>\n    <tr>\n      <th>4</th>\n      <td>4</td>\n      <td>4</td>\n      <td>0.542</td>\n      <td>0.588</td>\n      <td>2</td>\n      <td>-9.268</td>\n      <td>1</td>\n      <td>0.0665</td>\n      <td>0.6700</td>\n      <td>0.158000</td>\n      <td>0.2410</td>\n      <td>0.881</td>\n      <td>113.948</td>\n      <td>238533</td>\n    </tr>\n    <tr>\n      <th>...</th>\n      <td>...</td>\n      <td>...</td>\n      <td>...</td>\n      <td>...</td>\n      <td>...</td>\n      <td>...</td>\n      <td>...</td>\n      <td>...</td>\n      <td>...</td>\n      <td>...</td>\n      <td>...</td>\n      <td>...</td>\n      <td>...</td>\n      <td>...</td>\n    </tr>\n    <tr>\n      <th>45</th>\n      <td>45</td>\n      <td>45</td>\n      <td>0.691</td>\n      <td>0.581</td>\n      <td>10</td>\n      <td>-7.850</td>\n      <td>1</td>\n      <td>0.0650</td>\n      <td>0.5570</td>\n      <td>0.000046</td>\n      <td>0.1470</td>\n      <td>0.910</td>\n      <td>126.615</td>\n      <td>174440</td>\n    </tr>\n    <tr>\n      <th>46</th>\n      <td>46</td>\n      <td>46</td>\n      <td>0.559</td>\n      <td>0.537</td>\n      <td>10</td>\n      <td>-6.914</td>\n      <td>0</td>\n      <td>0.0330</td>\n      <td>0.2570</td>\n      <td>0.000000</td>\n      <td>0.1240</td>\n      <td>0.592</td>\n      <td>89.229</td>\n      <td>279627</td>\n    </tr>\n    <tr>\n      <th>47</th>\n      <td>47</td>\n      <td>47</td>\n      <td>0.257</td>\n      <td>0.338</td>\n      <td>4</td>\n      <td>-12.902</td>\n      <td>1</td>\n      <td>0.0357</td>\n      <td>0.7360</td>\n      <td>0.000000</td>\n      <td>0.2520</td>\n      <td>0.544</td>\n      <td>207.356</td>\n      <td>162493</td>\n    </tr>\n    <tr>\n      <th>48</th>\n      <td>48</td>\n      <td>48</td>\n      <td>0.617</td>\n      <td>0.879</td>\n      <td>0</td>\n      <td>-7.564</td>\n      <td>0</td>\n      <td>0.0455</td>\n      <td>0.1270</td>\n      <td>0.000057</td>\n      <td>0.3390</td>\n      <td>0.746</td>\n      <td>114.453</td>\n      <td>247413</td>\n    </tr>\n    <tr>\n      <th>49</th>\n      <td>49</td>\n      <td>49</td>\n      <td>0.773</td>\n      <td>0.418</td>\n      <td>7</td>\n      <td>-7.645</td>\n      <td>1</td>\n      <td>0.0423</td>\n      <td>0.5030</td>\n      <td>0.000086</td>\n      <td>0.0893</td>\n      <td>0.715</td>\n      <td>98.324</td>\n      <td>163160</td>\n    </tr>\n  </tbody>\n</table>\n<p>700 rows × 14 columns</p>\n</div>"
     },
     "metadata": {},
     "execution_count": 7
    }
   ],
   "source": [
    "df = pd.concat([data0, data1, data2, data3, data4, data5, data6, data7, data8, data9, data10, data11, data12, data13])\n",
    "df"
   ]
  },
  {
   "cell_type": "code",
   "execution_count": 8,
   "metadata": {},
   "outputs": [],
   "source": [
    "df.to_csv('D:\\Codingan\\Visual Studio Code\\Spotify\\Spotify Analysis 1\\Tahap Awal\\Gabungkan Data\\Data Fix 50 baru.csv')"
   ]
  }
 ],
 "metadata": {
  "language_info": {
   "codemirror_mode": {
    "name": "ipython",
    "version": 3
   },
   "file_extension": ".py",
   "mimetype": "text/x-python",
   "name": "python",
   "nbconvert_exporter": "python",
   "pygments_lexer": "ipython3",
   "version": "3.8.2-final"
  },
  "orig_nbformat": 2,
  "kernelspec": {
   "name": "python38232bite4331db4bc74444db25d9863fc3e1401",
   "display_name": "Python 3.8.2 32-bit"
  }
 },
 "nbformat": 4,
 "nbformat_minor": 2
}