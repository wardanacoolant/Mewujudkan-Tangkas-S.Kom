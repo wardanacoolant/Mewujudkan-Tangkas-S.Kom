{
 "cells": [
  {
   "cell_type": "markdown",
   "metadata": {},
   "source": [
    "MERAPIKAN DATA SEBAGAI BERIKUT :"
   ]
  },
  {
   "cell_type": "code",
   "execution_count": 1,
   "metadata": {},
   "outputs": [],
   "source": [
    "import pandas as pd"
   ]
  },
  {
   "cell_type": "markdown",
   "metadata": {},
   "source": [
    "MEMBACA FILE EXCEL BERUPA CSV"
   ]
  },
  {
   "cell_type": "markdown",
   "metadata": {},
   "source": [
    "data = pd.read_csv(\"D:\\Codingan\\Jetbrains\\PycharmProjects\\Spotify\\Venv\\Include\\Data\\Soul.csv\")\n",
    "data"
   ]
  },
  {
   "cell_type": "markdown",
   "metadata": {},
   "source": [
    "HAPUS KOLOM FILE YANG TIDAK DIGUNAKAN DAN SIMPAN KE FILE BARU"
   ]
  },
  {
   "cell_type": "markdown",
   "metadata": {},
   "source": [
    "data.drop(['type', 'id', 'uri', 'track_href', 'analysis_url', 'time_signature'], axis=1, inplace=True)\n",
    "data.rename(columns = {'Unnamed: 0' : 'Genre'}, inplace=True)\n",
    "data"
   ]
  },
  {
   "cell_type": "markdown",
   "metadata": {},
   "source": [
    "data.to_csv('D:\\Codingan\\Jetbrains\\PycharmProjects\\Spotify\\Venv\\Include\\Merapikan Data\\Soul_New.csv')"
   ]
  },
  {
   "cell_type": "markdown",
   "metadata": {},
   "source": [
    "MENGGABUNGKAN DATA"
   ]
  },
  {
   "cell_type": "markdown",
   "metadata": {},
   "source": [
    "data0 = pd.read_csv(\"D:\\Codingan\\Jetbrains\\PycharmProjects\\Spotify\\Venv\\Include\\Merapikan Data\\Blues_New.csv\")\n",
    "data1 = pd.read_csv(\"D:\\Codingan\\Jetbrains\\PycharmProjects\\Spotify\\Venv\\Include\\Merapikan Data\\Classical_New.csv\")\n",
    "data2 = pd.read_csv(\"D:\\Codingan\\Jetbrains\\PycharmProjects\\Spotify\\Venv\\Include\\Merapikan Data\\Country_New.csv\")\n",
    "data3 = pd.read_csv(\"D:\\Codingan\\Jetbrains\\PycharmProjects\\Spotify\\Venv\\Include\\Merapikan Data\\Edm_New.csv\")\n",
    "data4 = pd.read_csv(\"D:\\Codingan\\Jetbrains\\PycharmProjects\\Spotify\\Venv\\Include\\Merapikan Data\\Funk_New.csv\")\n",
    "data5 = pd.read_csv(\"D:\\Codingan\\Jetbrains\\PycharmProjects\\Spotify\\Venv\\Include\\Merapikan Data\\Gospel_New.csv\")\n",
    "data6 = pd.read_csv(\"D:\\Codingan\\Jetbrains\\PycharmProjects\\Spotify\\Venv\\Include\\Merapikan Data\\Hip Hop_New.csv\")\n",
    "data7 = pd.read_csv(\"D:\\Codingan\\Jetbrains\\PycharmProjects\\Spotify\\Venv\\Include\\Merapikan Data\\Jazz_New.csv\")\n",
    "data8 = pd.read_csv(\"D:\\Codingan\\Jetbrains\\PycharmProjects\\Spotify\\Venv\\Include\\Merapikan Data\\Metal_New.csv\")\n",
    "data9 = pd.read_csv(\"D:\\Codingan\\Jetbrains\\PycharmProjects\\Spotify\\Venv\\Include\\Merapikan Data\\Pop_New.csv\")\n",
    "data10 = pd.read_csv(\"D:\\Codingan\\Jetbrains\\PycharmProjects\\Spotify\\Venv\\Include\\Merapikan Data\\R&B_New.csv\")\n",
    "data11 = pd.read_csv(\"D:\\Codingan\\Jetbrains\\PycharmProjects\\Spotify\\Venv\\Include\\Merapikan Data\\Reggae_New.csv\")\n",
    "data12 = pd.read_csv(\"D:\\Codingan\\Jetbrains\\PycharmProjects\\Spotify\\Venv\\Include\\Merapikan Data\\Rock_New.csv\")\n",
    "data13 = pd.read_csv(\"D:\\Codingan\\Jetbrains\\PycharmProjects\\Spotify\\Venv\\Include\\Merapikan Data\\Soul_New.csv\")"
   ]
  },
  {
   "cell_type": "markdown",
   "metadata": {},
   "source": [
    "df = pd.concat([data0, data1, data2, data3, data4, data5, data6, data7, data8, data9, data10, data11, data12, data13])\n",
    "df.rename(columns = {'Genre' : 'Playlist'}, inplace=True)\n",
    "df"
   ]
  },
  {
   "cell_type": "markdown",
   "metadata": {},
   "source": [
    "df.to_csv('D:\\Codingan\\Jetbrains\\PycharmProjects\\Spotify\\Venv\\Include\\Gabungkan Data\\Data Fix.csv')"
   ]
  }
 ],
 "metadata": {
  "language_info": {
   "codemirror_mode": {
    "name": "ipython",
    "version": 3
   },
   "file_extension": ".py",
   "mimetype": "text/x-python",
   "name": "python",
   "nbconvert_exporter": "python",
   "pygments_lexer": "ipython3",
   "version": "3.8.2-final"
  },
  "orig_nbformat": 2,
  "kernelspec": {
   "name": "python38232bite4331db4bc74444db25d9863fc3e1401",
   "display_name": "Python 3.8.2 32-bit"
  }
 },
 "nbformat": 4,
 "nbformat_minor": 2
}